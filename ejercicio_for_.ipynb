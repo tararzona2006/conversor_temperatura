{
  "nbformat": 4,
  "nbformat_minor": 0,
  "metadata": {
    "colab": {
      "provenance": [],
      "authorship_tag": "ABX9TyPQT/9q4euKj15omdhIiTck",
      "include_colab_link": true
    },
    "kernelspec": {
      "name": "python3",
      "display_name": "Python 3"
    },
    "language_info": {
      "name": "python"
    }
  },
  "cells": [
    {
      "cell_type": "markdown",
      "metadata": {
        "id": "view-in-github",
        "colab_type": "text"
      },
      "source": [
        "<a href=\"https://colab.research.google.com/github/tararzona2006/conversor_temperatura/blob/main/ejercicio_for_.ipynb\" target=\"_parent\"><img src=\"https://colab.research.google.com/assets/colab-badge.svg\" alt=\"Open In Colab\"/></a>"
      ]
    },
    {
      "cell_type": "markdown",
      "source": [
        "# instruccion repetitiva for"
      ],
      "metadata": {
        "id": "xDqaNrmQq77l"
      }
    },
    {
      "cell_type": "code",
      "execution_count": null,
      "metadata": {
        "id": "Hpg_OgyBqXV7"
      },
      "outputs": [],
      "source": [
        "# ejercicio 1: mostrar los numeros del 1 al 10 , sin usar instrucciones repetitivas\n",
        "print(1)\n",
        "print(2)\n",
        "print(3)\n",
        "print(4)\n",
        "print(5)\n",
        "print(6)\n",
        "print(7)\n",
        "print(8)\n",
        "print(9)\n",
        "print(10)"
      ]
    },
    {
      "cell_type": "code",
      "source": [
        "# Ejercicio 2:mostrar los numeros del 1al 10 usando la instruccion  while\n",
        "\n",
        "contador = 1\n",
        "print(contador)\n",
        "while contador <10:\n",
        "  #contador = contador + 1\n",
        "  contador +=1\n",
        "  print(contador)"
      ],
      "metadata": {
        "id": "MXj6H7GStcAc"
      },
      "execution_count": null,
      "outputs": []
    },
    {
      "cell_type": "code",
      "source": [
        "#ejfercicio 3: mostrarlos numeros del 1 al 10, usando la instruccion for y una lista iterable\n",
        "lista = [1,2,3,4,5,6,7,8,9,10]\n",
        "for i in lista:\n",
        "   print(i)"
      ],
      "metadata": {
        "id": "CUwyQs8-vPFW"
      },
      "execution_count": null,
      "outputs": []
    },
    {
      "cell_type": "code",
      "source": [
        "#ejercicio 4:mostar los numeros del 1 al 10, usando la instruccion for y la funcion range\n",
        "\n",
        "for i in range(1,11):\n",
        "  print(i)\n"
      ],
      "metadata": {
        "id": "VfNpc00hvv1_"
      },
      "execution_count": null,
      "outputs": []
    },
    {
      "cell_type": "code",
      "source": [
        "# ejercicio 5:mostar una frase 10 veces ,usando la instruccion for y una lista.\n",
        "\n",
        "lista = [1,2,3,4,5,6,7,8,9,10]\n",
        "for i in lista:\n",
        "   print(f\"{i}sistemas la mejor\")"
      ],
      "metadata": {
        "id": "T6lfR8sJxOuU"
      },
      "execution_count": null,
      "outputs": []
    },
    {
      "cell_type": "code",
      "source": [
        "# Ejercicio  6. mostrar la silaba inicial de los dias de la semana usando for y una lista con la silaba inicial de los dia de la semana\n",
        "\n",
        "dias_semana = [\"lu\",\"ma\",\"mi\",\"ju\",\"vi\",\"sa\",\"do\"]\n",
        "for i in dias_semana:\n",
        "  print(i)"
      ],
      "metadata": {
        "id": "J6HtF9imykQd"
      },
      "execution_count": null,
      "outputs": []
    },
    {
      "cell_type": "code",
      "source": [
        "#Ejercicio 7: mostar una lista de distintos tipos de datos,usando for\n",
        "\n",
        "lista = [1,3,4,9,True, \"andres\", 8, \"guanenta\"]\n",
        "for i in lista:\n",
        "  print(i)"
      ],
      "metadata": {
        "id": "gdOjwm7NzcyE"
      },
      "execution_count": null,
      "outputs": []
    },
    {
      "cell_type": "code",
      "source": [
        "#ejercicio 8:ingresar su nombre mostarlo letra a letra,usando for\n",
        "nombre = input(\"digite su nombre: \")\n",
        "for letra in nombre:\n",
        "  print(letra)"
      ],
      "metadata": {
        "id": "BknbNypL0CDU"
      },
      "execution_count": null,
      "outputs": []
    },
    {
      "cell_type": "code",
      "source": [
        "# ejercicio 9: ingrese su nombre y mostarlo letra a letra,usando for,ala vocal e\n",
        "\n",
        "nombre = input(\"digite su nombre: \")\n",
        "for letra in nombre:\n",
        "  if letra == \"e\":\n",
        "    print(\"*\")\n",
        "  else:\n",
        "    print(letra)  "
      ],
      "metadata": {
        "id": "GRI0Q5c41KDR"
      },
      "execution_count": null,
      "outputs": []
    },
    {
      "cell_type": "code",
      "source": [
        "# Ejercicio 10: ingresar su nombre y mostralo letra a letra en mayuscula usando for\n",
        "\n",
        "nombre = input(\"digite su nombre: \")\n",
        "for letra in nombre:\n",
        "  print(letra.upper())\n",
        "  "
      ],
      "metadata": {
        "id": "7qvsMZGp3V0j"
      },
      "execution_count": null,
      "outputs": []
    },
    {
      "cell_type": "code",
      "source": [
        "# Ejercicio 11: \n",
        "\n",
        "print(\"muestra los numeros del 0 al 9\")\n",
        "for i in range(10):\n",
        "  print(i)\n",
        "\n",
        "print(\"numeros del 1 al 10\")\n",
        "for i in range(1,11):\n",
        "    print(i)\n",
        "\n",
        "print(\"10 veces la frase\")\n",
        "for i in range(10):\n",
        "  print(\"sistemas la mejor\")\n",
        "\n",
        "print(\"10 veces la frase i = \")\n",
        "for i in range(10):\n",
        "  print(\"i =\" + str(i))\n",
        "\n",
        "print(\"10 veces la frase i = \")\n",
        "for i in range(10):\n",
        "  print(f\" i = {i}\")\n",
        "\n",
        "print(\"rango del 7 al 18, incrementando de 4 en 4\")\n",
        "for i in range(7,19,4):\n",
        "  print(i)\n",
        "\n",
        "print(\"convierte rango en lista a, y la muestra\")\n",
        "a = list(range(1000))\n",
        "print(a)\n"
      ],
      "metadata": {
        "id": "1ED1xkXTAmXZ"
      },
      "execution_count": null,
      "outputs": []
    },
    {
      "cell_type": "markdown",
      "source": [
        "EJERCICIOS\n",
        "\n",
        "1. dada la siguiente lista de numeros,[20,21,30,41,50,51,2021] mostrar en pantalla solo los que no termina en 1.\n",
        "2. mostrar 1000 veces la palabra \"programacion\"\n",
        "3. del conjuntode cadenas [\"E\",\"F\",\"M\",\"A\"]que corresponde alas iniciales de primeros cuatro meses del año,mostar el nombre completo de dichos meses\n",
        "4. leer un texto y determinar cuantas veces dicho texto contiene cada una de las vocales en minuscula o en mayuscula.\n",
        "\n",
        "\n"
      ],
      "metadata": {
        "id": "txsnb-Y7E6y0"
      }
    },
    {
      "cell_type": "code",
      "source": [
        "# punto 1:\n",
        "\n",
        "numeros = [20, 21, 30, 41,50,51, 201]\n",
        "for numero in numeros:\n",
        "    if numero % 10 == 0:\n",
        "        print(numero)\n"
      ],
      "metadata": {
        "id": "wFkQfyw0IuIL"
      },
      "execution_count": null,
      "outputs": []
    },
    {
      "cell_type": "code",
      "source": [
        "# punto 2:\n",
        "\n",
        "print(\"1000 veces la frase\")\n",
        "for i in range(1000):\n",
        "  print(\"programacion\")\n",
        "\n"
      ],
      "metadata": {
        "id": "f8jJQNPVJY1h"
      },
      "execution_count": null,
      "outputs": []
    },
    {
      "cell_type": "code",
      "source": [
        "# punto 3:\n",
        "\n",
        "list = [\"E\", \"F\", \"M\", \"A\"]\n",
        "meses_año = [\"Enero\",\"Febrero\", \"Marzo\", \"Abril\"] \n",
        "E = \"Enero\"\n",
        "F = \"Febrero\"\n",
        "M = \"Marzo\"\n",
        "A = \"Abril\"\n",
        "for i in meses_año:\n",
        "  print(i)\n",
        "\n"
      ],
      "metadata": {
        "id": "4rBVKqXXOU83"
      },
      "execution_count": null,
      "outputs": []
    },
    {
      "cell_type": "code",
      "source": [
        "# punto 4:\n",
        "\n",
        "texto = \"Este es un ejemplo de texto para contar vocales\"\n",
        "vocales = \"AEIOUaeiou\"  # todas las vocales, en mayúsculas y minúsculas\n",
        "contador = 0\n",
        "\n",
        "for letra in texto:\n",
        "    if letra in vocales:\n",
        "        contador += 1\n",
        "\n",
        "print(\"El texto contiene\", contador, \"vocales\")\n",
        "\n"
      ],
      "metadata": {
        "colab": {
          "base_uri": "https://localhost:8080/"
        },
        "id": "Wl0PvbB7QqU9",
        "outputId": "41f6fd72-e994-4b3c-de93-eb64aaacc11f"
      },
      "execution_count": 41,
      "outputs": [
        {
          "output_type": "stream",
          "name": "stdout",
          "text": [
            "El texto contiene 17 vocales\n"
          ]
        }
      ]
    }
  ]
}